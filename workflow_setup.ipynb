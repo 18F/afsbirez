{
 "metadata": {
  "name": "",
  "signature": "sha256:ef9babcea35be81b83b3e6ce0eb75cfe8185afaf26d722371976cceca14fdb53"
 },
 "nbformat": 3,
 "nbformat_minor": 0,
 "worksheets": [
  {
   "cells": [
    {
     "cell_type": "code",
     "collapsed": false,
     "input": [
      "from sbirez.models import *"
     ],
     "language": "python",
     "metadata": {},
     "outputs": [],
     "prompt_number": 5
    },
    {
     "cell_type": "code",
     "collapsed": false,
     "input": [
      "pinfo_wf = Workflow(name='proposal_info')"
     ],
     "language": "python",
     "metadata": {},
     "outputs": [],
     "prompt_number": 6
    },
    {
     "cell_type": "code",
     "collapsed": false,
     "input": [
      "pinfo_wf.save()"
     ],
     "language": "python",
     "metadata": {},
     "outputs": [],
     "prompt_number": 7
    },
    {
     "cell_type": "code",
     "collapsed": false,
     "input": [
      "pinfo_wf.questions.add(\n",
      "    Question(name='proposed_cost',\n",
      "             order=1,\n",
      "             parent = pinfo_wf,\n",
      "             data_type='int',\n",
      "             required=False,\n",
      "             # human='',\n",
      "             help='',\n",
      "             validation='int(self) <= 150000',\n",
      "             validation_msg='Must not exceed 150,000'))"
     ],
     "language": "python",
     "metadata": {},
     "outputs": [],
     "prompt_number": 8
    },
    {
     "cell_type": "code",
     "collapsed": false,
     "input": [
      "pinfo_wf.questions.add(\n",
      "    Question(name='duration',\n",
      "             order=2,\n",
      "             parent = pinfo_wf,\n",
      "             data_type='str',\n",
      "             required=False,\n",
      "             # hu)?on='int(self) <= 150000',\n",
      "             validation_msg = 'Must not exceed 9 months',))"
     ],
     "language": "python",
     "metadata": {},
     "outputs": [],
     "prompt_number": 8
    },
    {
     "cell_type": "code",
     "collapsed": false,
     "input": [
      "pinfo_wf.questions.add(\n",
      "    Question(name='dta_yn',\n",
      "             order=3,\n",
      "             parent = pinfo_wf,\n",
      "             data_type='bool',\n",
      "             required=True,\n",
      "             default=False,\n",
      "             human='Does the proposed cost include Discretionary Technical Assistance (DTA?)',\n",
      "             help='',))"
     ],
     "language": "python",
     "metadata": {},
     "outputs": [],
     "prompt_number": 8
    },
    {
     "cell_type": "markdown",
     "metadata": {},
     "source": [
      "Why make dta_yn a separate question (at least on the data side)?  Why not just `dta_amount = 0`?"
     ]
    },
    {
     "cell_type": "code",
     "collapsed": false,
     "input": [
      "pinfo_wf.questions.add(\n",
      "    Question(name='dta_amount',\n",
      "             order=4,\n",
      "             parent = pinfo_wf,\n",
      "             data_type='int',\n",
      "             required=True\n",
      "             default=0,\n",
      "             human='Proposed DTA amount',\n",
      "             ask_if='dta_yn',\n",
      "             help='',))"
     ],
     "language": "python",
     "metadata": {},
     "outputs": [],
     "prompt_number": 8
    },
    {
     "cell_type": "code",
     "collapsed": false,
     "input": [
      "pinfo_wf.questions.add(\n",
      "    Question(name='proprietary_page_numbers',\n",
      "             order=5,\n",
      "             parent = pinfo_wf,\n",
      "             data_type='str',\n",
      "             required=False,\n",
      "             human='Proposed DTA amount',\n",
      "             ask_if='dta_yn',\n",
      "             help='',))"
     ],
     "language": "python",
     "metadata": {},
     "outputs": [],
     "prompt_number": 8
    },
    {
     "cell_type": "markdown",
     "metadata": {},
     "source": [
      "again, fold the boolean y/n into the answer"
     ]
    },
    {
     "cell_type": "code",
     "collapsed": false,
     "input": [
      "pinfo_wf.questions.add(\n",
      "    Question(name='essentially_equivalent_work',\n",
      "             order=6,\n",
      "             parent = pinfo_wf,\n",
      "             data_type='str',\n",
      "             required=False,\n",
      "             human='Agency name(s) and topic number for essentially equivalent work',\n",
      "             help='',))"
     ],
     "language": "python",
     "metadata": {},
     "outputs": [],
     "prompt_number": 8
    },
    {
     "cell_type": "code",
     "collapsed": false,
     "input": [
      "pinfo_wf.questions.add(\n",
      "    Question(name='essentially_equivalent_contract_awarded',\n",
      "             order=7,\n",
      "             parent = pinfo_wf,\n",
      "             data_type='str',\n",
      "             required=False,\n",
      "             human='Contract number awarded for essentially equivalent work',\n",
      "             ask_if='essentially_equivalent_work',\n",
      "             help='',))"
     ],
     "language": "python",
     "metadata": {},
     "outputs": [],
     "prompt_number": 8
    },
    {
     "cell_type": "code",
     "collapsed": false,
     "input": [
      "%load_ext sql"
     ],
     "language": "python",
     "metadata": {},
     "outputs": [
      {
       "output_type": "stream",
       "stream": "stdout",
       "text": [
        "The sql extension is already loaded. To reload it, use:\n",
        "  %reload_ext sql\n"
       ]
      }
     ],
     "prompt_number": 9
    },
    {
     "cell_type": "code",
     "collapsed": false,
     "input": [
      "%sql postgresql://:@/afsbirez"
     ],
     "language": "python",
     "metadata": {},
     "outputs": [
      {
       "metadata": {},
       "output_type": "pyout",
       "prompt_number": 2,
       "text": [
        "'Connected: @afsbirez'"
       ]
      }
     ],
     "prompt_number": 2
    },
    {
     "cell_type": "code",
     "collapsed": false,
     "input": [
      "%sql select * from sbirez_workflow"
     ],
     "language": "python",
     "metadata": {},
     "outputs": [
      {
       "output_type": "stream",
       "stream": "stdout",
       "text": [
        "1 rows affected.\n"
       ]
      },
      {
       "html": [
        "<table>\n",
        "    <tr>\n",
        "        <th>id</th>\n",
        "        <th>name</th>\n",
        "        <th>validation</th>\n",
        "    </tr>\n",
        "    <tr>\n",
        "        <td>5</td>\n",
        "        <td>proposal_info</td>\n",
        "        <td></td>\n",
        "    </tr>\n",
        "</table>"
       ],
       "metadata": {},
       "output_type": "pyout",
       "prompt_number": 10,
       "text": [
        "[(5, 'proposal_info', '')]"
       ]
      }
     ],
     "prompt_number": 10
    },
    {
     "cell_type": "code",
     "collapsed": false,
     "input": [
      "%sql select * from sbirez_question"
     ],
     "language": "python",
     "metadata": {},
     "outputs": [
      {
       "output_type": "stream",
       "stream": "stdout",
       "text": [
        "1 rows affected.\n"
       ]
      },
      {
       "html": [
        "<table>\n",
        "    <tr>\n",
        "        <th>id</th>\n",
        "        <th>name</th>\n",
        "        <th>order</th>\n",
        "        <th>data_type</th>\n",
        "        <th>required</th>\n",
        "        <th>human</th>\n",
        "        <th>help</th>\n",
        "        <th>validation</th>\n",
        "        <th>parent_id</th>\n",
        "        <th>subworkflow_id</th>\n",
        "    </tr>\n",
        "    <tr>\n",
        "        <td>7</td>\n",
        "        <td>proposed_cost</td>\n",
        "        <td>1</td>\n",
        "        <td>int</td>\n",
        "        <td>False</td>\n",
        "        <td></td>\n",
        "        <td></td>\n",
        "        <td>int(self) &lt;= 150000</td>\n",
        "        <td>5</td>\n",
        "        <td>None</td>\n",
        "    </tr>\n",
        "</table>"
       ],
       "metadata": {},
       "output_type": "pyout",
       "prompt_number": 11,
       "text": [
        "[(7, 'proposed_cost', 1, 'int', False, '', '', 'int(self) <= 150000', 5, None)]"
       ]
      }
     ],
     "prompt_number": 11
    },
    {
     "cell_type": "code",
     "collapsed": false,
     "input": [
      "%sql delete from sbirez_workflow"
     ],
     "language": "python",
     "metadata": {},
     "outputs": [
      {
       "output_type": "stream",
       "stream": "stdout",
       "text": [
        "1 rows affected.\n"
       ]
      },
      {
       "metadata": {},
       "output_type": "pyout",
       "prompt_number": 4,
       "text": [
        "[]"
       ]
      }
     ],
     "prompt_number": 4
    },
    {
     "cell_type": "code",
     "collapsed": false,
     "input": [],
     "language": "python",
     "metadata": {},
     "outputs": []
    }
   ],
   "metadata": {}
  }
 ]
}